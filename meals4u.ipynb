{
 "cells": [
  {
   "cell_type": "markdown",
   "id": "c1d147a1",
   "metadata": {},
   "source": [
    "Emily Torres\n",
    "\n",
    "Professor Xuemin Jin\n",
    "\n",
    "Data Management for Analytics\n",
    "\n",
    "April 20, 2025"
   ]
  },
  {
   "cell_type": "markdown",
   "id": "d875aaee",
   "metadata": {},
   "source": [
    "# Meals4U: A Solution to Food Insecurity for U.S. College Students"
   ]
  },
  {
   "cell_type": "markdown",
   "id": "c3234e87",
   "metadata": {},
   "source": [
    "## Connection to Database"
   ]
  },
  {
   "cell_type": "markdown",
   "id": "7b73d387",
   "metadata": {},
   "source": [
    "Import all necessary libraries"
   ]
  },
  {
   "cell_type": "code",
   "execution_count": null,
   "id": "4f2c5224",
   "metadata": {},
   "outputs": [],
   "source": [
    "import mysql.connector\n",
    "import pandas as pd\n",
    "from sqlalchemy import create_engine"
   ]
  },
  {
   "cell_type": "markdown",
   "id": "9d2aacb6",
   "metadata": {},
   "source": [
    "Create sqlalchemy connection engine"
   ]
  },
  {
   "cell_type": "code",
   "execution_count": null,
   "id": "af2ce54e",
   "metadata": {},
   "outputs": [],
   "source": [
    "user = 'emilytorres'\n",
    "password = 'grtkd1217!'\n",
    "host = 'localhost'\n",
    "port = '3306'\n",
    "database = 'meals4u'\n",
    "engine = create_engine(f'mysql+mysqlconnector://{user}:{password}@{host}:{port}/{database}')"
   ]
  },
  {
   "cell_type": "markdown",
   "id": "f957df81",
   "metadata": {},
   "source": [
    "Open connection using mysql.connector"
   ]
  },
  {
   "cell_type": "code",
   "execution_count": null,
   "id": "9e31fac4",
   "metadata": {},
   "outputs": [],
   "source": [
    "conn = mysql.connector.connect(\n",
    "    user=user, password=password, host=host, database=database\n",
    ")\n",
    "cursor = conn.cursor()"
   ]
  },
  {
   "cell_type": "markdown",
   "id": "d0e13567",
   "metadata": {},
   "source": [
    "Run the \"USE\" command"
   ]
  },
  {
   "cell_type": "code",
   "execution_count": null,
   "id": "ed5f0183",
   "metadata": {},
   "outputs": [],
   "source": [
    "cursor.execute(\"USE meals4u\")"
   ]
  },
  {
   "cell_type": "markdown",
   "id": "6818a9a4",
   "metadata": {},
   "source": [
    "## REPL Implementation"
   ]
  },
  {
   "cell_type": "markdown",
   "id": "a89e8a4b",
   "metadata": {},
   "source": [
    "### Options and Queries"
   ]
  },
  {
   "cell_type": "markdown",
   "id": "dbc370c7",
   "metadata": {},
   "source": [
    "Option 1: Produce a list of all tables in the database."
   ]
  },
  {
   "cell_type": "code",
   "execution_count": null,
   "id": "06f3cae9",
   "metadata": {},
   "outputs": [],
   "source": [
    "def tableList():\n",
    "    cursor.execute(\"SHOW TABLES\")\n",
    "    tables = cursor.fetchall()\n",
    "    tables_df = pd.DataFrame(tables, columns=[\"Tables\"])\n",
    "    print('\\nOkay, here is a dataframe of all tables in the Meals4U Database.\\n')\n",
    "    print(tables_df)"
   ]
  },
  {
   "cell_type": "markdown",
   "id": "e3044b4d",
   "metadata": {},
   "source": [
    "Option 2: Produce a list of the number of rows for each table."
   ]
  },
  {
   "cell_type": "code",
   "execution_count": null,
   "id": "2967dfee",
   "metadata": {},
   "outputs": [],
   "source": [
    "def numRows():\n",
    "    cursor.execute(\"\"\"\n",
    "        SELECT table_name, table_rows\n",
    "        FROM INFORMATION_SCHEMA.TABLES\n",
    "        WHERE TABLE_SCHEMA = 'meals4u'\n",
    "        ORDER BY table_rows DESC;\n",
    "    \"\"\")\n",
    "    rows_per_table = cursor.fetchall()\n",
    "    rows_per_table_df = pd.DataFrame(rows_per_table, columns=[\"Table\", \"Num_Rows\"])\n",
    "    print('\\nOkay, here is a dataframe of every table and its row count in the Meals4U Database.\\n')\n",
    "    print(rows_per_table_df)"
   ]
  },
  {
   "cell_type": "markdown",
   "id": "7d7efb75",
   "metadata": {},
   "source": [
    "### REPL Main Menu"
   ]
  },
  {
   "cell_type": "markdown",
   "id": "192c1b94",
   "metadata": {},
   "source": [
    "User friendly REPL to access different queries"
   ]
  },
  {
   "cell_type": "code",
   "execution_count": null,
   "id": "e198be18",
   "metadata": {},
   "outputs": [],
   "source": [
    "PROMPT = '%> '\n",
    "\n",
    "def proj_repl():\n",
    "    print ('\\nWelcome to The Meals4U Database.\\n')\n",
    "    while True:\n",
    "        main_menu() #?\n",
    "        choice = input(PROMPT)\n",
    "        if choice == '9':\n",
    "            break\n",
    "        elif choice == '1':\n",
    "            tableList()\n",
    "        elif choice =='2':\n",
    "            numRows()\n",
    "    cursor.close()\n",
    "    conn.close()\n",
    "    print('\\nThanks for using the Meals4U Database. See you later!\\n')\n",
    "\n",
    "def main_menu():\n",
    "    print(\"\"\"          \n",
    "✩₊˚.⋆☾⋆⁺₊✧  Meals4U Database Main Menu  ✩₊˚.⋆☾⋆⁺₊✧\n",
    "\n",
    "=============================================\n",
    "Meals4U offers a variety of frozen homemade meals delivered to \n",
    "college students’ doorsteps made fresh under strict sanitary and \n",
    "food preparation regulations by trained individuals/volunteers.\n",
    "\n",
    "Please choose from one of the following options to get started. \n",
    "=============================================\n",
    "\n",
    "1) Produce a list of all tables in the database. \n",
    "2) Produce a list of the number of rows for each table. \n",
    "\n",
    "9) Quit.\n",
    "\"\"\")"
   ]
  },
  {
   "cell_type": "markdown",
   "id": "27d4088e",
   "metadata": {},
   "source": [
    "## Run the application"
   ]
  },
  {
   "cell_type": "markdown",
   "id": "800f9e5d",
   "metadata": {},
   "source": [
    "Call the REPL"
   ]
  },
  {
   "cell_type": "code",
   "execution_count": null,
   "id": "42b0909a",
   "metadata": {},
   "outputs": [],
   "source": [
    "proj_repl()"
   ]
  }
 ],
 "metadata": {
  "kernelspec": {
   "display_name": "Python 3",
   "language": "python",
   "name": "python3"
  },
  "language_info": {
   "codemirror_mode": {
    "name": "ipython",
    "version": 3
   },
   "file_extension": ".py",
   "mimetype": "text/x-python",
   "name": "python",
   "nbconvert_exporter": "python",
   "pygments_lexer": "ipython3",
   "version": "3.11.4"
  }
 },
 "nbformat": 4,
 "nbformat_minor": 5
}
