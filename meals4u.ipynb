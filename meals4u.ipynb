{
 "cells": [
  {
   "cell_type": "markdown",
   "id": "c1d147a1",
   "metadata": {},
   "source": [
    "Emily Torres\n",
    "\n",
    "Professor Xuemin Jin\n",
    "\n",
    "Data Management for Analytics\n",
    "\n",
    "April 20, 2025"
   ]
  },
  {
   "cell_type": "markdown",
   "id": "d875aaee",
   "metadata": {},
   "source": [
    "# Meals4U: A Solution to Food Insecurity for U.S. College Students"
   ]
  },
  {
   "cell_type": "markdown",
   "id": "c3234e87",
   "metadata": {},
   "source": [
    "## Connection to Database"
   ]
  },
  {
   "cell_type": "markdown",
   "id": "7b73d387",
   "metadata": {},
   "source": [
    "Import all necessary libraries"
   ]
  },
  {
   "cell_type": "code",
   "execution_count": null,
   "id": "4f2c5224",
   "metadata": {},
   "outputs": [],
   "source": [
    "import mysql.connector\n",
    "import pandas as pd\n",
    "import matplotlib.pyplot as plt\n",
    "from sqlalchemy import create_engine"
   ]
  },
  {
   "cell_type": "markdown",
   "id": "9d2aacb6",
   "metadata": {},
   "source": [
    "Create sqlalchemy connection engine"
   ]
  },
  {
   "cell_type": "code",
   "execution_count": null,
   "id": "af2ce54e",
   "metadata": {},
   "outputs": [],
   "source": [
    "user = 'emilytorres'\n",
    "password = 'grtkd1217!'\n",
    "host = 'localhost'\n",
    "port = '3306'\n",
    "database = 'meals4u'\n",
    "engine = create_engine(f'mysql+mysqlconnector://{user}:{password}@{host}:{port}/{database}')"
   ]
  },
  {
   "cell_type": "markdown",
   "id": "f957df81",
   "metadata": {},
   "source": [
    "Open connection using mysql.connector"
   ]
  },
  {
   "cell_type": "code",
   "execution_count": null,
   "id": "9e31fac4",
   "metadata": {},
   "outputs": [],
   "source": [
    "conn = mysql.connector.connect(\n",
    "    user=user, password=password, host=host, database=database\n",
    ")\n",
    "cursor = conn.cursor()"
   ]
  },
  {
   "cell_type": "markdown",
   "id": "d0e13567",
   "metadata": {},
   "source": [
    "Run the \"USE\" command"
   ]
  },
  {
   "cell_type": "code",
   "execution_count": null,
   "id": "ed5f0183",
   "metadata": {},
   "outputs": [],
   "source": [
    "cursor.execute(\"USE meals4u\")"
   ]
  },
  {
   "cell_type": "markdown",
   "id": "6818a9a4",
   "metadata": {},
   "source": [
    "## REPL Implementation"
   ]
  },
  {
   "cell_type": "markdown",
   "id": "a89e8a4b",
   "metadata": {},
   "source": [
    "### Options and Queries"
   ]
  },
  {
   "cell_type": "markdown",
   "id": "dbc370c7",
   "metadata": {},
   "source": [
    "Option 1: Produce a list of all tables in the database."
   ]
  },
  {
   "cell_type": "code",
   "execution_count": null,
   "id": "06f3cae9",
   "metadata": {},
   "outputs": [],
   "source": [
    "def tableList():\n",
    "    cursor.execute(\"SHOW TABLES\")\n",
    "    tables = cursor.fetchall()\n",
    "    tables_df = pd.DataFrame(tables, columns=[\"Tables\"])\n",
    "    print('\\nOkay, here is a dataframe of all tables in the Meals4U Database.\\n')\n",
    "    print(tables_df)"
   ]
  },
  {
   "cell_type": "markdown",
   "id": "e3044b4d",
   "metadata": {},
   "source": [
    "Option 2: Produce a list of the number of rows for each table."
   ]
  },
  {
   "cell_type": "code",
   "execution_count": null,
   "id": "2967dfee",
   "metadata": {},
   "outputs": [],
   "source": [
    "def numRows():\n",
    "    cursor.execute(\"\"\"\n",
    "        SELECT table_name, table_rows\n",
    "        FROM INFORMATION_SCHEMA.TABLES\n",
    "        WHERE TABLE_SCHEMA = 'meals4u'\n",
    "        ORDER BY table_rows DESC;\n",
    "    \"\"\")\n",
    "    rows_per_table = cursor.fetchall()\n",
    "    rows_per_table_df = pd.DataFrame(rows_per_table, columns=[\"Table\", \"Num_Rows\"])\n",
    "    print('\\nOkay, here is a dataframe of every table and its row count in the Meals4U Database.\\n')\n",
    "    print(rows_per_table_df)"
   ]
  },
  {
   "cell_type": "markdown",
   "id": "bbff3cd6",
   "metadata": {},
   "source": [
    "Option 3: Produce a pie chart of the distribution of Income Levels among students using Meals4U"
   ]
  },
  {
   "cell_type": "code",
   "execution_count": null,
   "id": "c377f15c",
   "metadata": {},
   "outputs": [],
   "source": [
    "def distinctIncome():\n",
    "    cursor.execute(\"\"\"\n",
    "        SELECT \n",
    "            CASE income_details\n",
    "                WHEN 1 THEN 'Low_Income'\n",
    "                WHEN 2 THEN 'Middle_Income'\n",
    "                WHEN 3 THEN 'High_Income'\n",
    "                WHEN 4 THEN 'Upper_Income'\n",
    "                ELSE 'Unknown'\n",
    "            END,\n",
    "            COUNT(*) AS count\n",
    "            FROM meals4u.students\n",
    "            GROUP BY \n",
    "            CASE income_details\n",
    "                WHEN 1 THEN 'Low_Income'\n",
    "                WHEN 2 THEN 'Middle_Income'\n",
    "                WHEN 3 THEN 'High_Income'\n",
    "                WHEN 4 THEN 'Upper_Income'\n",
    "                ELSE 'Unknown'\n",
    "            END\n",
    "            ORDER BY count DESC;\n",
    "    \"\"\")\n",
    "    income_counts = cursor.fetchall()\n",
    "    income_counts_df = pd.DataFrame(income_counts, columns=[\"Income Type\", \"Student Total\"])\n",
    "    print('\\nOkay, here is a pie chart displaying the distribution of income levels among students utilizing Meals4U.\\n')\n",
    "\n",
    "    pastel_colors = ['#FFB3BA', '#BAE1FF', '#BFFCC6', '#FFFFBA']\n",
    "    plt.pie(income_counts_df['Student Total'], labels=income_counts_df['Income Type'], colors=pastel_colors, autopct='%1.1f%%', startangle=90)\n",
    "    plt.title('Income Distribution for Students Subscribed to Meals4U')\n",
    "    plt.show()"
   ]
  },
  {
   "cell_type": "markdown",
   "id": "7252c608",
   "metadata": {},
   "source": [
    "Option 4: Produce a stacked bar graph showing the distribution of cuisines for each kind of meal item (entree, side, drink)."
   ]
  },
  {
   "cell_type": "code",
   "execution_count": null,
   "id": "74586935",
   "metadata": {},
   "outputs": [],
   "source": [
    "def distinctCuisine():\n",
    "    cursor.execute(\"\"\"\n",
    "        SELECT \n",
    "            g.Item_Type,\n",
    "            IFNULL(e.Cuisine_Type, IFNULL(d.Cuisine_Type, s.Cuisine_Type)) AS Cuisine_Type,\n",
    "            COUNT(*) AS Cuisine_Count\n",
    "        FROM General_Item_Inventory g\n",
    "        LEFT JOIN Entree e ON g.Item_ID = e.Item_ID\n",
    "        LEFT JOIN Drink d ON g.Item_ID = d.Item_ID\n",
    "        LEFT JOIN Side s ON g.Item_ID = s.Item_ID\n",
    "        GROUP BY g.Item_Type, Cuisine_Type\n",
    "        ORDER BY g.Item_Type, Cuisine_Type;\n",
    "    \"\"\")\n",
    "    \n",
    "    cuisine_counts = cursor.fetchall()\n",
    "    cuisine_counts_df = pd.DataFrame(cuisine_counts, columns=[\"Item_Type\", \"Cuisine_Type\", \"Cuisine_Count\"])\n",
    "\n",
    "    cuisine_counts_df[\"Cuisine_Count\"] = pd.to_numeric(cuisine_counts_df[\"Cuisine_Count\"], errors=\"coerce\")\n",
    "\n",
    "    cuisine_counts_df_pivot = cuisine_counts_df.pivot(index='Item_Type', columns='Cuisine_Type', values='Cuisine_Count').fillna(0)\n",
    "\n",
    "    cuisine_counts_df_pivot.plot(kind='bar', stacked=True, figsize=(10, 6))\n",
    "\n",
    "    print('\\nOkay, here is a stacked bar chart displaying the distribution of cuisines for each kind of meal item (entree, side, drink).\\n')\n",
    "\n",
    "    plt.title('Distribution of Meal4U Cuisine Offerings by Meal Item Type', fontsize=14)\n",
    "    plt.xlabel('Item Type', fontsize=12)\n",
    "    plt.ylabel('Cuisine Count', fontsize=12)\n",
    "    plt.xticks(rotation=0)\n",
    "    plt.legend(title='Cuisines', title_fontsize='13', fontsize='11', bbox_to_anchor=(1.05, 1), loc='upper left')\n",
    "    plt.tight_layout()\n",
    "    plt.show()\n"
   ]
  },
  {
   "cell_type": "markdown",
   "id": "a41976f2",
   "metadata": {},
   "source": [
    "Option 5: Produce a bar graph showing the distribution of students and their universities."
   ]
  },
  {
   "cell_type": "code",
   "execution_count": null,
   "id": "aa4aaaba",
   "metadata": {},
   "outputs": [],
   "source": [
    "def collegeDistribution():\n",
    "    cursor.execute(\"\"\"\n",
    "        SELECT \n",
    "            u.College_Name,\n",
    "            COUNT(s.User_ID) AS Student_Count\n",
    "        FROM Universities u\n",
    "        LEFT JOIN Students s ON u.College_ID = s.College_ID\n",
    "        GROUP BY u.College_Name\n",
    "        ORDER BY Student_Count DESC;\n",
    "    \"\"\")\n",
    "    \n",
    "    college_counts = cursor.fetchall()\n",
    "    college_counts_df = pd.DataFrame(college_counts, columns=[\"University\", \"Total Students\"])\n",
    "\n",
    "    print('\\nOkay, here is a bar chart displaying the distribution of students and their univerisities participating in Meals4U.\\n')\n",
    "\n",
    "    plt.figure(figsize=(12, 6))\n",
    "    plt.barh(college_counts_df[\"University\"], college_counts_df[\"Total Students\"], color=\"skyblue\")\n",
    "    plt.ylabel('University')\n",
    "    plt.xlabel('Total Students')\n",
    "    plt.title('Number of Students in Meals4U by University')\n",
    "    plt.tight_layout()\n",
    "    plt.show()"
   ]
  },
  {
   "cell_type": "markdown",
   "id": "7d7efb75",
   "metadata": {},
   "source": [
    "### REPL Main Menu"
   ]
  },
  {
   "cell_type": "markdown",
   "id": "192c1b94",
   "metadata": {},
   "source": [
    "User friendly REPL to access different queries"
   ]
  },
  {
   "cell_type": "code",
   "execution_count": null,
   "id": "e198be18",
   "metadata": {},
   "outputs": [],
   "source": [
    "PROMPT = '%> '\n",
    "\n",
    "def proj_repl():\n",
    "    print ('\\nWelcome to The Meals4U Database.\\n')\n",
    "    while True:\n",
    "        main_menu() #?\n",
    "        choice = input(PROMPT)\n",
    "        if choice == '9':\n",
    "            break\n",
    "        elif choice == '1':\n",
    "            tableList()\n",
    "        elif choice =='2':\n",
    "            numRows()\n",
    "        elif choice =='3':\n",
    "            distinctIncome()\n",
    "        elif choice =='4':\n",
    "            distinctCuisine()\n",
    "        elif choice =='5':\n",
    "            collegeDistribution()\n",
    "    cursor.close()\n",
    "    conn.close()\n",
    "    print('\\nThanks for using the Meals4U Database. See you later!\\n')\n",
    "\n",
    "def main_menu():\n",
    "    print(\"\"\"          \n",
    "✩₊˚.⋆☾⋆⁺₊✧  Meals4U Database Main Menu  ✩₊˚.⋆☾⋆⁺₊✧\n",
    "\n",
    "=============================================\n",
    "Meals4U offers a variety of frozen homemade meals delivered to \n",
    "college students’ doorsteps made fresh under strict sanitary and \n",
    "food preparation regulations by trained individuals/volunteers.\n",
    "\n",
    "Please choose from one of the following options to get started. \n",
    "=============================================\n",
    "\n",
    "1) Produce a list of all tables in the database. \n",
    "2) Produce a list of the number of rows for each table. \n",
    "3) Produce a pie chart showing the distribution of income details among students using Meals4U.\n",
    "4) Produce a stacked bar graph showing the distribution of cuisines for each kind of meal item (entree, side, drink). \n",
    "5) Produce a bar graph showing the distribution of students and their universities.\n",
    "\n",
    "9) Quit.\n",
    "\"\"\")"
   ]
  },
  {
   "cell_type": "markdown",
   "id": "27d4088e",
   "metadata": {},
   "source": [
    "## Run the application"
   ]
  },
  {
   "cell_type": "markdown",
   "id": "800f9e5d",
   "metadata": {},
   "source": [
    "Call the REPL"
   ]
  },
  {
   "cell_type": "code",
   "execution_count": null,
   "id": "42b0909a",
   "metadata": {},
   "outputs": [
    {
     "data": {
      "image/png": "[encoded data removed]",
      "text/plain": [
       "<Figure size 1200x600 with 1 Axes>"
      ]
     },
     "metadata": {},
     "output_type": "display_data"
    },
    {
     "name": "stdout",
     "output_type": "stream",
     "text": [
      "          \n",
      "✩₊˚.⋆☾⋆⁺₊✧  Meals4U Database Main Menu  ✩₊˚.⋆☾⋆⁺₊✧\n",
      "\n",
      "=============================================\n",
      "Meals4U offers a variety of frozen homemade meals delivered to \n",
      "college students’ doorsteps made fresh under strict sanitary and \n",
      "food preparation regulations by trained individuals/volunteers.\n",
      "\n",
      "Please choose from one of the following options to get started. \n",
      "=============================================\n",
      "\n",
      "1) Produce a list of all tables in the database. \n",
      "2) Produce a list of the number of rows for each table. \n",
      "3) Produce a pie chart showing the distribution of income details among students using Meals4U.\n",
      "4) Produce a stacked bar graph showing the distribution of cuisines for each kind of meal item (entree, side, drink). \n",
      "5) Produce a bar graph showing the distribution of students and their universities.\n",
      "\n",
      "9) Quit.\n",
      "\n"
     ]
    }
   ],
   "source": [
    "proj_repl()"
   ]
  }
 ],
 "metadata": {
  "kernelspec": {
   "display_name": "Python 3",
   "language": "python",
   "name": "python3"
  },
  "language_info": {
   "codemirror_mode": {
    "name": "ipython",
    "version": 3
   },
   "file_extension": ".py",
   "mimetype": "text/x-python",
   "name": "python",
   "nbconvert_exporter": "python",
   "pygments_lexer": "ipython3",
   "version": "3.11.4"
  }
 },
 "nbformat": 4,
 "nbformat_minor": 5
}
