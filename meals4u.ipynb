{
 "cells": [
  {
   "cell_type": "markdown",
   "id": "c1d147a1",
   "metadata": {},
   "source": [
    "Emily Torres\n",
    "\n",
    "Professor Xuemin Jin\n",
    "\n",
    "Data Management for Analytics\n",
    "\n",
    "April 20, 2025"
   ]
  },
  {
   "cell_type": "markdown",
   "id": "d875aaee",
   "metadata": {},
   "source": [
    "# Meals4U: A Solution to Food Insecurity for U.S. College Students"
   ]
  },
  {
   "cell_type": "markdown",
   "id": "c3234e87",
   "metadata": {},
   "source": [
    "## Connection to Database"
   ]
  },
  {
   "cell_type": "markdown",
   "id": "7b73d387",
   "metadata": {},
   "source": [
    "Import all necessary libraries"
   ]
  },
  {
   "cell_type": "code",
   "execution_count": null,
   "id": "4f2c5224",
   "metadata": {},
   "outputs": [],
   "source": [
    "import mysql\n",
    "import pandas as pd\n",
    "import matplotlib.pyplot as plt\n",
    "from sqlalchemy import create_engine"
   ]
  },
  {
   "cell_type": "markdown",
   "id": "9d2aacb6",
   "metadata": {},
   "source": [
    "Create sqlalchemy connection engine"
   ]
  },
  {
   "cell_type": "code",
   "execution_count": null,
   "id": "af2ce54e",
   "metadata": {},
   "outputs": [],
   "source": [
    "user = 'emilytorres'\n",
    "password = 'grtkd1217!'\n",
    "host = 'localhost'\n",
    "port = '3306'\n",
    "database = 'meals4u'\n",
    "engine = create_engine(f'mysql+mysqlconnector://{user}:{password}@{host}:{port}/{database}')"
   ]
  },
  {
   "cell_type": "markdown",
   "id": "f957df81",
   "metadata": {},
   "source": [
    "Open connection using mysql.connector"
   ]
  },
  {
   "cell_type": "code",
   "execution_count": null,
   "id": "9e31fac4",
   "metadata": {},
   "outputs": [],
   "source": [
    "conn = mysql.connector.connect(\n",
    "    user=user, password=password, host=host, database=database\n",
    ")\n",
    "cursor = conn.cursor()"
   ]
  },
  {
   "cell_type": "markdown",
   "id": "d0e13567",
   "metadata": {},
   "source": [
    "Run the \"USE\" command"
   ]
  },
  {
   "cell_type": "code",
   "execution_count": null,
   "id": "ed5f0183",
   "metadata": {},
   "outputs": [],
   "source": [
    "cursor.execute(\"USE meals4u\")"
   ]
  },
  {
   "cell_type": "markdown",
   "id": "6818a9a4",
   "metadata": {},
   "source": [
    "## REPL Implementation"
   ]
  },
  {
   "cell_type": "markdown",
   "id": "a89e8a4b",
   "metadata": {},
   "source": [
    "### Options and Queries"
   ]
  },
  {
   "cell_type": "markdown",
   "id": "dbc370c7",
   "metadata": {},
   "source": [
    "Option 1: Produce a list of all tables in the database."
   ]
  },
  {
   "cell_type": "code",
   "execution_count": null,
   "id": "06f3cae9",
   "metadata": {},
   "outputs": [],
   "source": [
    "def tableList():\n",
    "    # This function will list all tables in the Meals4U database\n",
    "    cursor.execute(\"SHOW TABLES\")\n",
    "\n",
    "    # Fetch all table names\n",
    "    tables = cursor.fetchall()\n",
    "\n",
    "    # Extract table names from tuples\n",
    "    tables_df = pd.DataFrame(tables, columns=[\"Tables\"])\n",
    "    \n",
    "    # Print the table names\n",
    "    print('\\nOkay, here is a dataframe of all tables in the Meals4U Database.\\n')\n",
    "    print(tables_df)"
   ]
  },
  {
   "cell_type": "markdown",
   "id": "e3044b4d",
   "metadata": {},
   "source": [
    "Option 2: Produce a list of the number of rows for each table."
   ]
  },
  {
   "cell_type": "code",
   "execution_count": null,
   "id": "2967dfee",
   "metadata": {},
   "outputs": [],
   "source": [
    "def numRows():\n",
    "    # Execute a query to get the number of rows in each table\n",
    "    cursor.execute(\"\"\"\n",
    "        SELECT table_name, table_rows\n",
    "        FROM INFORMATION_SCHEMA.TABLES\n",
    "        WHERE TABLE_SCHEMA = 'meals4u'\n",
    "        ORDER BY table_rows DESC;\n",
    "    \"\"\")\n",
    "    \n",
    "    # Fetch all rows from the executed query\n",
    "    rows_per_table = cursor.fetchall()\n",
    "\n",
    "    # Extract table names and row counts from tuples\n",
    "    rows_per_table_df = pd.DataFrame(rows_per_table, columns=[\"Table\", \"Num_Rows\"])\n",
    "    \n",
    "    # Print the row counts\n",
    "    print('\\nOkay, here is a dataframe of every table and its row count in the Meals4U Database.\\n')\n",
    "    print(rows_per_table_df)"
   ]
  },
  {
   "cell_type": "markdown",
   "id": "bbff3cd6",
   "metadata": {},
   "source": [
    "Option 3: Produce a pie chart of the distribution of Income Levels among students using Meals4U"
   ]
  },
  {
   "cell_type": "code",
   "execution_count": null,
   "id": "c377f15c",
   "metadata": {},
   "outputs": [],
   "source": [
    "def distinctIncome():\n",
    "    # This function will display the distinct income levels in the Meals4U database\n",
    "    cursor.execute(\"\"\"\n",
    "        SELECT \n",
    "            CASE income_details\n",
    "                WHEN 1 THEN 'Low_Income'\n",
    "                WHEN 2 THEN 'Middle_Income'\n",
    "                WHEN 3 THEN 'High_Income'\n",
    "                WHEN 4 THEN 'Upper_Income'\n",
    "                ELSE 'Unknown'\n",
    "            END,\n",
    "            COUNT(*) AS count\n",
    "            FROM meals4u.students\n",
    "            GROUP BY \n",
    "            CASE income_details\n",
    "                WHEN 1 THEN 'Low_Income'\n",
    "                WHEN 2 THEN 'Middle_Income'\n",
    "                WHEN 3 THEN 'High_Income'\n",
    "                WHEN 4 THEN 'Upper_Income'\n",
    "                ELSE 'Unknown'\n",
    "            END\n",
    "            ORDER BY count DESC;\n",
    "    \"\"\")\n",
    "\n",
    "    # Fetch all distinct income levels and their counts\n",
    "    income_counts = cursor.fetchall()\n",
    "\n",
    "    # Extract income levels and their counts from tuples\n",
    "    income_counts_df = pd.DataFrame(income_counts, columns=[\"Income Type\", \"Student Total\"])\n",
    "    print('\\nOkay, here is a pie chart displaying the distribution of income levels among students utilizing Meals4U.\\n')\n",
    "\n",
    "    # Plotting the pie chart\n",
    "    plt.figure(figsize=(8, 8))\n",
    "    pastel_colors = ['#FFB3BA', '#BAE1FF', '#BFFCC6', '#FFFFBA']\n",
    "    plt.pie(income_counts_df['Student Total'], labels=income_counts_df['Income Type'], colors=pastel_colors, autopct='%1.1f%%', startangle=90)\n",
    "    \n",
    "    # Display the pie chart\n",
    "    plt.title('Income Distribution for Students Subscribed to Meals4U')\n",
    "    plt.show()"
   ]
  },
  {
   "cell_type": "markdown",
   "id": "7252c608",
   "metadata": {},
   "source": [
    "Option 4: Produce a stacked bar graph showing the distribution of cuisines for each kind of meal item (entree, side, drink)."
   ]
  },
  {
   "cell_type": "code",
   "execution_count": null,
   "id": "74586935",
   "metadata": {},
   "outputs": [],
   "source": [
    "def distinctCuisine():\n",
    "    # This function will display the distinct cuisines in the Meals4U database\n",
    "    cursor.execute(\"\"\"\n",
    "        SELECT \n",
    "            g.Item_Type,\n",
    "            IFNULL(e.Cuisine_Type, IFNULL(d.Cuisine_Type, s.Cuisine_Type)) AS Cuisine_Type,\n",
    "            COUNT(*) AS Cuisine_Count\n",
    "        FROM General_Item_Inventory g\n",
    "        LEFT JOIN Entree e ON g.Item_ID = e.Item_ID\n",
    "        LEFT JOIN Drink d ON g.Item_ID = d.Item_ID\n",
    "        LEFT JOIN Side s ON g.Item_ID = s.Item_ID\n",
    "        GROUP BY g.Item_Type, Cuisine_Type\n",
    "        ORDER BY g.Item_Type, Cuisine_Type;\n",
    "    \"\"\")\n",
    "    \n",
    "    # Fetch all distinct cuisines and their counts\n",
    "    cuisine_counts = cursor.fetchall()\n",
    "    \n",
    "    # Extract item types, cuisine types, and their counts from tuples\n",
    "    cuisine_counts_df = pd.DataFrame(cuisine_counts, columns=[\"Item_Type\", \"Cuisine_Type\", \"Cuisine_Count\"])\n",
    "\n",
    "    # Convert the Cuisine_Count column to numeric, handling errors\n",
    "    cuisine_counts_df[\"Cuisine_Count\"] = pd.to_numeric(cuisine_counts_df[\"Cuisine_Count\"], errors=\"coerce\")\n",
    "\n",
    "    # Fill NaN values with 0\n",
    "    cuisine_counts_df_pivot = cuisine_counts_df.pivot(index='Item_Type', columns='Cuisine_Type', values='Cuisine_Count').fillna(0)\n",
    "\n",
    "    # Plotting the stacked bar chart\n",
    "    cuisine_counts_df_pivot.plot(kind='bar', stacked=True, figsize=(10, 6))\n",
    "\n",
    "    # Customizing the plot\n",
    "    plt.title('Distribution of Meal4U Cuisine Offerings by Meal Item Type', fontsize=14)\n",
    "    plt.xlabel('Item Type', fontsize=12)\n",
    "    plt.ylabel('Cuisine Count', fontsize=12)\n",
    "    plt.xticks(rotation=0)\n",
    "    plt.legend(title='Cuisines', title_fontsize='13', fontsize='11', bbox_to_anchor=(1.05, 1), loc='upper left')\n",
    "    plt.tight_layout()\n",
    "    \n",
    "    # Display the stacked bar chart\n",
    "    print('\\nOkay, here is a stacked bar chart displaying the distribution of cuisines for each kind of meal item (entree, side, drink).\\n')\n",
    "    plt.show()\n"
   ]
  },
  {
   "cell_type": "markdown",
   "id": "a41976f2",
   "metadata": {},
   "source": [
    "Option 5: Produce a bar graph showing the distribution of students and their universities."
   ]
  },
  {
   "cell_type": "code",
   "execution_count": null,
   "id": "aa4aaaba",
   "metadata": {},
   "outputs": [],
   "source": [
    "def collegeDistribution():\n",
    "    # This function will display the distribution of students by university in the Meals4U database\n",
    "    cursor.execute(\"\"\"\n",
    "        SELECT \n",
    "            u.College_Name,\n",
    "            COUNT(s.User_ID) AS Student_Count\n",
    "        FROM Universities u\n",
    "        LEFT JOIN Students s ON u.College_ID = s.College_ID\n",
    "        GROUP BY u.College_Name\n",
    "        ORDER BY Student_Count DESC;\n",
    "    \"\"\")\n",
    "    \n",
    "    # Fetch all college names and their student counts\n",
    "    college_counts = cursor.fetchall()\n",
    "    \n",
    "    # Extract college names and student counts from tuples\n",
    "    college_counts_df = pd.DataFrame(college_counts, columns=[\"University\", \"Total Students\"])\n",
    "\n",
    "    # Create a horizontal bar chart\n",
    "    plt.figure(figsize=(12, 6))\n",
    "    plt.barh(college_counts_df[\"University\"], college_counts_df[\"Total Students\"], color=\"skyblue\")\n",
    "    plt.ylabel('University')\n",
    "    plt.xlabel('Total Students')\n",
    "    plt.title('Number of Students in Meals4U by University')\n",
    "    plt.tight_layout()\n",
    "\n",
    "    # Display the horizontal bar chart\n",
    "    print('\\nOkay, here is a bar chart displaying the distribution of students and their univerisities participating in Meals4U.\\n')\n",
    "    plt.show()"
   ]
  },
  {
   "cell_type": "markdown",
   "id": "c663412f",
   "metadata": {},
   "source": [
    "Option 6: Produce a list of all records found in a specific table."
   ]
  },
  {
   "cell_type": "code",
   "execution_count": null,
   "id": "9480e6b7",
   "metadata": {},
   "outputs": [],
   "source": [
    "def allRecords():\n",
    "    # This function will display all records from a specified table in the Meals4U database\n",
    "    t = input(\"Please enter the table name you would like to see all records from: \").strip()\n",
    "    q = f\"SELECT * FROM `{t}`;\"\n",
    "    cursor.execute(q)\n",
    "    \n",
    "    # Fetch all records from the specified table\n",
    "    all_records = cursor.fetchall()\n",
    "\n",
    "    # Extract column names from the cursor description\n",
    "    columns = [i[0] for i in cursor.description]\n",
    "\n",
    "    # Create a DataFrame from the fetched records\n",
    "    all_records_df = pd.DataFrame(all_records, columns=columns)\n",
    "\n",
    "    # Display the DataFrame\n",
    "    print(f\"\\nOkay, here is a dataframe of all records from the {t} table in the Meals4U Database.\\n\")\n",
    "    print(all_records_df)"
   ]
  },
  {
   "cell_type": "markdown",
   "id": "61631958",
   "metadata": {},
   "source": [
    "Option 7: Produce a list of records found in a specific table based on filtered criteria."
   ]
  },
  {
   "cell_type": "code",
   "execution_count": null,
   "id": "a67101b3",
   "metadata": {},
   "outputs": [],
   "source": [
    "def filteredRecords():\n",
    "    # This function will display filtered records from a specified table in the Meals4U database\n",
    "    t = input(\"Please enter the table name you would like to see records from: \").strip()\n",
    "    c = input(\"Please enter the column name you would like to filter by: \").strip()\n",
    "    v = input(\"Please enter the value you would like to filter by: \").strip()\n",
    "    q = f\"SELECT * FROM `{t}` WHERE `{c}` = '{v}';\"\n",
    "    cursor.execute(q)\n",
    "    \n",
    "    # Fetch all filtered records from the specified table\n",
    "    filtered_records = cursor.fetchall()\n",
    "\n",
    "    # Extract column names from the cursor description\n",
    "    columns = [i[0] for i in cursor.description]\n",
    "\n",
    "    # Create a DataFrame from the fetched filtered records\n",
    "    filtered_records_df = pd.DataFrame(filtered_records, columns=columns)\n",
    "\n",
    "    # Display the DataFrame\n",
    "    print(f\"\\nOkay, here is a dataframe of all records from the {t} table in the Meals4U Database filtered by {c} = {v}.\\n\")\n",
    "    print(filtered_records_df)"
   ]
  },
  {
   "cell_type": "markdown",
   "id": "298c5459",
   "metadata": {},
   "source": [
    "Option 8: Produce a list of records found in a specific table based on sorted criteria."
   ]
  },
  {
   "cell_type": "code",
   "execution_count": null,
   "id": "b04d7206",
   "metadata": {},
   "outputs": [],
   "source": [
    "def sortedRecords():\n",
    "    # This function will display sorted records from a specified table in the Meals4U database\n",
    "    t = input(\"Please enter the table name you would like to see records from: \").strip()\n",
    "    c = input(\"Please enter the column name you would like to sort by: \").strip()\n",
    "    o = input(\"Please enter the order you would like to sort by (ASC or DESC): \").strip()\n",
    "    q = f\"SELECT * FROM `{t}` ORDER BY `{c}` {o};\"\n",
    "    cursor.execute(q)\n",
    "    \n",
    "    # Fetch all sorted records from the specified table\n",
    "    sorted_records = cursor.fetchall()\n",
    "\n",
    "    # Extract column names from the cursor description\n",
    "    columns = [i[0] for i in cursor.description]\n",
    "\n",
    "    # Create a DataFrame from the fetched sorted records\n",
    "    sorted_records_df = pd.DataFrame(sorted_records, columns=columns)\n",
    "\n",
    "    # Display the DataFrame\n",
    "    print(f\"\\nOkay, here is a dataframe of all records from the {t} table in the Meals4U Database sorted by {c} in {o} order.\\n\")\n",
    "    print(sorted_records_df)"
   ]
  },
  {
   "cell_type": "markdown",
   "id": "7d7efb75",
   "metadata": {},
   "source": [
    "### REPL Main Menu"
   ]
  },
  {
   "cell_type": "markdown",
   "id": "192c1b94",
   "metadata": {},
   "source": [
    "User friendly REPL to access different queries"
   ]
  },
  {
   "cell_type": "code",
   "execution_count": null,
   "id": "e198be18",
   "metadata": {},
   "outputs": [],
   "source": [
    "# Main function to run the program\n",
    "PROMPT = '%> '\n",
    "\n",
    "# This function will display the main menu and handle user input\n",
    "def proj_repl():\n",
    "    print ('\\nWelcome to The Meals4U Database.\\n')\n",
    "    while True:\n",
    "        main_menu() #?\n",
    "        choice = input(PROMPT)\n",
    "        if choice == '9':\n",
    "            break\n",
    "        elif choice == '1':\n",
    "            tableList()\n",
    "        elif choice =='2':\n",
    "            numRows()\n",
    "        elif choice =='3':\n",
    "            distinctIncome()\n",
    "        elif choice =='4':\n",
    "            distinctCuisine()\n",
    "        elif choice =='5':\n",
    "            collegeDistribution()\n",
    "        elif choice =='6':\n",
    "            allRecords()\n",
    "        elif choice == '7':\n",
    "            filteredRecords()\n",
    "        elif choice == '8':\n",
    "            sortedRecords()\n",
    "        else:\n",
    "            print('\\nSorry, that is not a valid option. Please try again.\\n')\n",
    "    # Close the connection\n",
    "    cursor.close()\n",
    "    conn.close()\n",
    "    print('\\nThanks for using the Meals4U Database. See you later!\\n')\n",
    "\n",
    "# This function will display the main menu and handle user input\n",
    "def main_menu():\n",
    "    print(\"\"\"          \n",
    "✩₊˚.⋆☾⋆⁺₊✧  Meals4U Database Main Menu  ✩₊˚.⋆☾⋆⁺₊✧\n",
    "\n",
    "=============================================\n",
    "Meals4U offers a variety of frozen homemade meals delivered to \n",
    "college students’ doorsteps made fresh under strict sanitary and \n",
    "food preparation regulations by trained individuals/volunteers.\n",
    "\n",
    "Please choose from one of the following options to get started. \n",
    "=============================================\n",
    "\n",
    "Table Validation:\n",
    "1) Produce a list of all tables in the database. \n",
    "2) Produce a list of the number of rows for each table. \n",
    "          \n",
    "Data Analysis and Visualization:\n",
    "3) Produce a pie chart showing the distribution of income details among students using Meals4U.\n",
    "4) Produce a stacked bar graph showing the distribution of cuisines for each kind of meal item (entree, side, drink). \n",
    "5) Produce a bar graph showing the distribution of students and their universities.\n",
    "          \n",
    "Query Utilization:\n",
    "6) Produce a list of all records found in a specific table.\n",
    "7) Produce a list of records found in a specific table based on filtered criteria.\n",
    "8) Produce a list of records found in a specific table based on sorted criteria.\n",
    "\n",
    "9) Quit.\n",
    "\"\"\")"
   ]
  },
  {
   "cell_type": "markdown",
   "id": "27d4088e",
   "metadata": {},
   "source": [
    "## Run the application"
   ]
  },
  {
   "cell_type": "markdown",
   "id": "800f9e5d",
   "metadata": {},
   "source": [
    "Call the REPL"
   ]
  },
  {
   "cell_type": "code",
   "execution_count": null,
   "id": "42b0909a",
   "metadata": {},
   "outputs": [],
   "source": [
    "proj_repl()"
   ]
  }
 ],
 "metadata": {
  "kernelspec": {
   "display_name": "Python 3",
   "language": "python",
   "name": "python3"
  },
  "language_info": {
   "codemirror_mode": {
    "name": "ipython",
    "version": 3
   },
   "file_extension": ".py",
   "mimetype": "text/x-python",
   "name": "python",
   "nbconvert_exporter": "python",
   "pygments_lexer": "ipython3",
   "version": "3.11.4"
  }
 },
 "nbformat": 4,
 "nbformat_minor": 5
}
